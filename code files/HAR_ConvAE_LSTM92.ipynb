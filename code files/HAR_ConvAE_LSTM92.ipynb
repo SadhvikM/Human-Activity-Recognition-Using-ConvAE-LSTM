{
  "nbformat": 4,
  "nbformat_minor": 0,
  "metadata": {
    "colab": {
      "provenance": []
    },
    "kernelspec": {
      "name": "python3",
      "display_name": "Python 3"
    },
    "language_info": {
      "name": "python"
    }
  },
  "cells": [
    {
      "cell_type": "code",
      "execution_count": 1,
      "metadata": {
        "colab": {
          "base_uri": "https://localhost:8080/"
        },
        "id": "QVzVp_Y5NoGA",
        "outputId": "d8c72542-436f-41a6-e535-e1e1fa6617aa"
      },
      "outputs": [
        {
          "output_type": "stream",
          "name": "stdout",
          "text": [
            "Mounted at /content/drive\n"
          ]
        }
      ],
      "source": [
        "from google.colab import drive\n",
        "drive.mount('/content/drive',force_remount=True)"
      ]
    },
    {
      "cell_type": "code",
      "source": [
        "from numpy import dstack\n",
        "from pandas import read_csv\n",
        " \n",
        "# load a single file as a numpy array\n",
        "def load_file(filepath):\n",
        " dataframe = read_csv(filepath, header=None, delim_whitespace=True)\n",
        " return dataframe.values\n",
        " \n",
        "# load a list of files, such as x, y, z data for a given variable\n",
        "def load_group(filenames, prefix=''):\n",
        " loaded = list()\n",
        " for name in filenames:\n",
        "  data = load_file(prefix + name)\n",
        "  loaded.append(data)\n",
        " # stack group so that features are the 3rd dimension\n",
        " loaded = dstack(loaded)\n",
        " return loaded\n",
        " \n",
        "# load a dataset group, such as train or test\n",
        "def load_dataset(group, prefix=''):\n",
        " filepath = prefix + group + '/Inertial Signals/'\n",
        " # load all 9 files as a single array\n",
        " filenames = list()\n",
        " # total acceleration\n",
        " filenames += ['total_acc_x_'+group+'.txt', 'total_acc_y_'+group+'.txt', 'total_acc_z_'+group+'.txt']\n",
        " # body acceleration\n",
        " filenames += ['body_acc_x_'+group+'.txt', 'body_acc_y_'+group+'.txt', 'body_acc_z_'+group+'.txt']\n",
        " # body gyroscope\n",
        " filenames += ['body_gyro_x_'+group+'.txt', 'body_gyro_y_'+group+'.txt', 'body_gyro_z_'+group+'.txt']\n",
        " # load input data\n",
        " X = load_group(filenames, filepath)\n",
        " # load class output\n",
        " y = load_file(prefix + group + '/y_'+group+'.txt')\n",
        " return X, y\n",
        " \n",
        "# load all train\n",
        "trainX, trainy = load_dataset('train', '/content/drive/My Drive/datasets/UCI HAR Dataset/')\n",
        "print(trainX.shape, trainy.shape)\n",
        "# load all test\n",
        "testX, testy = load_dataset('test', '/content/drive/My Drive/datasets/UCI HAR Dataset/')\n",
        "print(testX.shape, testy.shape)"
      ],
      "metadata": {
        "colab": {
          "base_uri": "https://localhost:8080/"
        },
        "id": "bUeJYXjtQKPn",
        "outputId": "c273de45-994b-42c0-f551-ec0bdcad9dd1"
      },
      "execution_count": 2,
      "outputs": [
        {
          "output_type": "stream",
          "name": "stdout",
          "text": [
            "(7352, 128, 9) (7352, 1)\n",
            "(2947, 128, 9) (2947, 1)\n"
          ]
        }
      ]
    },
    {
      "cell_type": "code",
      "source": [
        "import pandas as pd\n",
        "trainX"
      ],
      "metadata": {
        "colab": {
          "base_uri": "https://localhost:8080/"
        },
        "id": "5euYPBHNRyeR",
        "outputId": "b043c915-76b5-4285-bf6a-418d247adfda"
      },
      "execution_count": 3,
      "outputs": [
        {
          "output_type": "execute_result",
          "data": {
            "text/plain": [
              "array([[[ 1.012817e+00, -1.232167e-01,  1.029341e-01, ...,\n",
              "          3.019122e-02,  6.601362e-02,  2.285864e-02],\n",
              "        [ 1.022833e+00, -1.268756e-01,  1.056872e-01, ...,\n",
              "          4.371071e-02,  4.269897e-02,  1.031572e-02],\n",
              "        [ 1.022028e+00, -1.240037e-01,  1.021025e-01, ...,\n",
              "          3.568780e-02,  7.485018e-02,  1.324969e-02],\n",
              "        ...,\n",
              "        [ 1.018445e+00, -1.240696e-01,  1.003852e-01, ...,\n",
              "          3.985177e-02,  1.909445e-03, -2.170124e-03],\n",
              "        [ 1.019372e+00, -1.227451e-01,  9.987355e-02, ...,\n",
              "          3.744932e-02, -7.982483e-05, -5.642633e-03],\n",
              "        [ 1.021171e+00, -1.213260e-01,  9.498741e-02, ...,\n",
              "          2.881781e-02, -3.771800e-05, -1.446006e-03]],\n",
              "\n",
              "       [[ 1.018851e+00, -1.239760e-01,  9.792958e-02, ...,\n",
              "          1.711106e-02,  6.122797e-03,  1.226815e-02],\n",
              "        [ 1.022380e+00, -1.268078e-01,  9.935086e-02, ...,\n",
              "          2.417851e-02,  9.710357e-03,  1.614958e-02],\n",
              "        [ 1.020781e+00, -1.277862e-01,  9.811381e-02, ...,\n",
              "          3.022889e-02,  1.032192e-02,  1.589471e-02],\n",
              "        ...,\n",
              "        [ 1.014788e+00, -1.290268e-01,  9.353520e-02, ...,\n",
              "         -3.474078e-02, -8.694754e-03,  5.044730e-03],\n",
              "        [ 1.016499e+00, -1.264244e-01,  8.903516e-02, ...,\n",
              "         -3.797305e-02, -1.165249e-02, -4.424329e-03],\n",
              "        [ 1.017849e+00, -1.305193e-01,  9.061235e-02, ...,\n",
              "         -3.864973e-02, -9.440197e-03, -2.797817e-03]],\n",
              "\n",
              "       [[ 1.023127e+00, -1.200157e-01,  9.111667e-02, ...,\n",
              "          2.618877e-02, -2.383410e-04,  2.158897e-03],\n",
              "        [ 1.021882e+00, -1.214994e-01,  9.267560e-02, ...,\n",
              "          2.165149e-02, -4.275982e-04, -2.724752e-04],\n",
              "        [ 1.019178e+00, -1.228407e-01,  9.606378e-02, ...,\n",
              "          1.455062e-02,  7.611350e-04,  2.630986e-03],\n",
              "        ...,\n",
              "        [ 1.021041e+00, -1.308757e-01,  8.301135e-02, ...,\n",
              "         -2.090983e-02, -1.005391e-02, -5.566286e-03],\n",
              "        [ 1.022935e+00, -1.312099e-01,  8.233391e-02, ...,\n",
              "         -2.211369e-02, -9.717281e-03, -3.701625e-03],\n",
              "        [ 1.022019e+00, -1.301826e-01,  8.148748e-02, ...,\n",
              "         -2.023537e-02, -8.831462e-03, -2.644745e-03]],\n",
              "\n",
              "       ...,\n",
              "\n",
              "       [[ 7.548917e-01, -1.711829e-01,  1.745865e-01, ...,\n",
              "          1.183561e-01,  4.267019e-01,  3.008475e-01],\n",
              "        [ 8.043137e-01, -1.999375e-01,  2.324243e-01, ...,\n",
              "          1.378901e-01,  3.223201e-01,  3.511780e-01],\n",
              "        [ 8.317140e-01, -2.319457e-01,  2.576066e-01, ...,\n",
              "          1.774201e-01,  2.331586e-01,  2.723513e-01],\n",
              "        ...,\n",
              "        [ 6.956257e-01, -2.217656e-01,  1.112952e-01, ...,\n",
              "         -7.609545e-01,  6.840804e-01,  2.543444e-01],\n",
              "        [ 7.479103e-01, -2.811496e-01,  1.263023e-01, ...,\n",
              "         -6.779630e-01,  6.291636e-01,  2.814308e-01],\n",
              "        [ 7.767680e-01, -3.275988e-01,  1.886212e-01, ...,\n",
              "         -6.275012e-01,  4.812542e-01,  2.542062e-01]],\n",
              "\n",
              "       [[ 9.279268e-01, -2.238010e-01,  2.628140e-01, ...,\n",
              "         -3.788723e-01,  1.642781e-01,  2.175042e-01],\n",
              "        [ 9.129872e-01, -2.210407e-01,  2.954154e-01, ...,\n",
              "         -3.738884e-01,  6.393670e-02,  1.584971e-01],\n",
              "        [ 9.246597e-01, -1.839923e-01,  3.376098e-01, ...,\n",
              "         -3.301252e-01, -9.430612e-02,  1.868787e-01],\n",
              "        ...,\n",
              "        [ 6.753473e-01, -1.620087e-01,  1.289247e-01, ...,\n",
              "         -4.254607e-01,  6.504409e-01,  1.762117e-01],\n",
              "        [ 6.603377e-01, -2.020367e-01,  1.722512e-01, ...,\n",
              "         -4.755471e-01,  4.097342e-01,  1.635609e-01],\n",
              "        [ 7.193530e-01, -2.291273e-01,  2.100712e-01, ...,\n",
              "         -4.129589e-01,  1.998230e-01,  1.887340e-01]],\n",
              "\n",
              "       [[ 7.980909e-01, -3.060512e-01,  2.093865e-01, ...,\n",
              "         -4.767788e-01,  2.889329e-01,  2.277976e-01],\n",
              "        [ 8.192417e-01, -2.666046e-01,  2.310711e-01, ...,\n",
              "         -2.679120e-01,  1.712000e-01,  1.034757e-01],\n",
              "        [ 8.658821e-01, -2.053607e-01,  3.341906e-01, ...,\n",
              "         -1.905664e-01,  1.424723e-01, -7.565458e-02],\n",
              "        ...,\n",
              "        [ 8.980947e-01, -3.977751e-01, -1.561050e-01, ...,\n",
              "          1.004855e+00,  1.156645e+00, -3.625121e-01],\n",
              "        [ 8.283723e-01, -3.492473e-01, -1.227979e-01, ...,\n",
              "          1.015589e+00,  1.100750e+00, -3.839895e-01],\n",
              "        [ 8.002428e-01, -3.323721e-01, -8.357159e-02, ...,\n",
              "          1.047599e+00,  1.011324e+00, -3.358840e-01]]])"
            ]
          },
          "metadata": {},
          "execution_count": 3
        }
      ]
    },
    {
      "cell_type": "code",
      "source": [
        "import tensorflow as tf\n",
        "trainy = trainy - 1\n",
        "testy = testy - 1\n",
        "trainy = tf.keras.utils.to_categorical(trainy)\n",
        "testy = tf.keras.utils.to_categorical(testy)"
      ],
      "metadata": {
        "id": "dVumWJ7xfRzE"
      },
      "execution_count": 4,
      "outputs": []
    },
    {
      "cell_type": "code",
      "source": [
        "from keras.optimizers import Adam\n",
        "\n",
        "model = tf.keras.Sequential([\n",
        "    tf.keras.layers.Conv1D(64, 3, activation='relu', padding='same', input_shape=(128, 9)),\n",
        "    tf.keras.layers.MaxPooling1D(2, padding='same'),\n",
        "    tf.keras.layers.Conv1D(32, 3, activation='relu', padding='same'),\n",
        "    tf.keras.layers.MaxPooling1D(2, padding='same'),\n",
        "   \n",
        "    tf.keras.layers.Conv1D(32, 3, activation='relu', padding='same'),\n",
        "    tf.keras.layers.UpSampling1D(2),\n",
        "    tf.keras.layers.Conv1D(64, 3, activation='relu', padding='same'),\n",
        "    tf.keras.layers.UpSampling1D(2),\n",
        "    \n",
        "    tf.keras.layers.Dropout(0.5),\n",
        "    tf.keras.layers.Flatten(),\n",
        "    tf.keras.layers.Reshape((64, -1)),\n",
        "    tf.keras.layers.LSTM(64, return_sequences=False),\n",
        "    tf.keras.layers.Dense(100, activation='relu'),\n",
        "    tf.keras.layers.Dense(6, activation='softmax')\n",
        "])\n",
        "\n",
        "\n",
        "model.compile(loss='categorical_crossentropy', optimizer=Adam(learning_rate=0.001), metrics=['accuracy'])\n",
        "model.summary()\n"
      ],
      "metadata": {
        "id": "PT12qMdLTinV",
        "colab": {
          "base_uri": "https://localhost:8080/"
        },
        "outputId": "2cf56ea1-2578-431c-f4b6-b7917cea0fb7"
      },
      "execution_count": 5,
      "outputs": [
        {
          "output_type": "stream",
          "name": "stdout",
          "text": [
            "Model: \"sequential\"\n",
            "_________________________________________________________________\n",
            " Layer (type)                Output Shape              Param #   \n",
            "=================================================================\n",
            " conv1d (Conv1D)             (None, 128, 64)           1792      \n",
            "                                                                 \n",
            " max_pooling1d (MaxPooling1D  (None, 64, 64)           0         \n",
            " )                                                               \n",
            "                                                                 \n",
            " conv1d_1 (Conv1D)           (None, 64, 32)            6176      \n",
            "                                                                 \n",
            " max_pooling1d_1 (MaxPooling  (None, 32, 32)           0         \n",
            " 1D)                                                             \n",
            "                                                                 \n",
            " conv1d_2 (Conv1D)           (None, 32, 32)            3104      \n",
            "                                                                 \n",
            " up_sampling1d (UpSampling1D  (None, 64, 32)           0         \n",
            " )                                                               \n",
            "                                                                 \n",
            " conv1d_3 (Conv1D)           (None, 64, 64)            6208      \n",
            "                                                                 \n",
            " up_sampling1d_1 (UpSampling  (None, 128, 64)          0         \n",
            " 1D)                                                             \n",
            "                                                                 \n",
            " dropout (Dropout)           (None, 128, 64)           0         \n",
            "                                                                 \n",
            " flatten (Flatten)           (None, 8192)              0         \n",
            "                                                                 \n",
            " reshape (Reshape)           (None, 64, 128)           0         \n",
            "                                                                 \n",
            " lstm (LSTM)                 (None, 64)                49408     \n",
            "                                                                 \n",
            " dense (Dense)               (None, 100)               6500      \n",
            "                                                                 \n",
            " dense_1 (Dense)             (None, 6)                 606       \n",
            "                                                                 \n",
            "=================================================================\n",
            "Total params: 73,794\n",
            "Trainable params: 73,794\n",
            "Non-trainable params: 0\n",
            "_________________________________________________________________\n"
          ]
        }
      ]
    },
    {
      "cell_type": "code",
      "source": [
        "import time\n",
        "from keras.callbacks import EarlyStopping\n",
        "\n",
        "early_stop = EarlyStopping(monitor='val_accuracy', mode='max', patience=3, verbose=1)\n",
        "\n",
        "start_time = time.time()\n",
        "model.fit(\n",
        "  x=trainX, \n",
        "  y=trainy, \n",
        "  epochs=20,\n",
        "  validation_data = (testX,testy),\n",
        "  callbacks = [early_stop]\n",
        ")\n",
        "end_time = time.time()"
      ],
      "metadata": {
        "id": "joLzF_omXhjo",
        "colab": {
          "base_uri": "https://localhost:8080/"
        },
        "outputId": "e39e1fc7-2514-4863-83e6-5a71a408cb67"
      },
      "execution_count": 6,
      "outputs": [
        {
          "output_type": "stream",
          "name": "stdout",
          "text": [
            "Epoch 1/20\n",
            "230/230 [==============================] - 26s 97ms/step - loss: 0.7340 - accuracy: 0.6668 - val_loss: 0.5806 - val_accuracy: 0.7618\n",
            "Epoch 2/20\n",
            "230/230 [==============================] - 21s 90ms/step - loss: 0.2814 - accuracy: 0.8921 - val_loss: 0.3942 - val_accuracy: 0.8711\n",
            "Epoch 3/20\n",
            "230/230 [==============================] - 21s 92ms/step - loss: 0.1431 - accuracy: 0.9427 - val_loss: 0.3633 - val_accuracy: 0.8826\n",
            "Epoch 4/20\n",
            "230/230 [==============================] - 20s 86ms/step - loss: 0.1327 - accuracy: 0.9416 - val_loss: 0.4279 - val_accuracy: 0.8751\n",
            "Epoch 5/20\n",
            "230/230 [==============================] - 24s 104ms/step - loss: 0.1800 - accuracy: 0.9335 - val_loss: 0.4012 - val_accuracy: 0.8799\n",
            "Epoch 6/20\n",
            "230/230 [==============================] - 20s 89ms/step - loss: 0.1250 - accuracy: 0.9489 - val_loss: 0.3660 - val_accuracy: 0.9033\n",
            "Epoch 7/20\n",
            "230/230 [==============================] - 21s 93ms/step - loss: 0.2463 - accuracy: 0.9143 - val_loss: 0.3876 - val_accuracy: 0.8612\n",
            "Epoch 8/20\n",
            "230/230 [==============================] - 22s 94ms/step - loss: 0.1461 - accuracy: 0.9438 - val_loss: 0.2421 - val_accuracy: 0.9114\n",
            "Epoch 9/20\n",
            "230/230 [==============================] - 20s 85ms/step - loss: 0.1164 - accuracy: 0.9499 - val_loss: 0.2430 - val_accuracy: 0.9145\n",
            "Epoch 10/20\n",
            "230/230 [==============================] - 22s 94ms/step - loss: 0.1093 - accuracy: 0.9517 - val_loss: 0.2117 - val_accuracy: 0.9264\n",
            "Epoch 11/20\n",
            "230/230 [==============================] - 20s 86ms/step - loss: 0.1025 - accuracy: 0.9540 - val_loss: 0.2344 - val_accuracy: 0.9169\n",
            "Epoch 12/20\n",
            "230/230 [==============================] - 21s 90ms/step - loss: 0.1090 - accuracy: 0.9521 - val_loss: 0.4248 - val_accuracy: 0.8751\n",
            "Epoch 13/20\n",
            "230/230 [==============================] - 21s 92ms/step - loss: 0.1087 - accuracy: 0.9512 - val_loss: 0.2434 - val_accuracy: 0.9226\n",
            "Epoch 13: early stopping\n"
          ]
        }
      ]
    },
    {
      "cell_type": "code",
      "source": [
        "print(start_time)\n",
        "print(end_time)\n",
        "print(end_time-start_time)"
      ],
      "metadata": {
        "id": "gkCLKPhY9Fkh",
        "colab": {
          "base_uri": "https://localhost:8080/"
        },
        "outputId": "ec8bbb5a-c53a-4916-cabb-828ca7c66376"
      },
      "execution_count": 7,
      "outputs": [
        {
          "output_type": "stream",
          "name": "stdout",
          "text": [
            "1681894136.5476992\n",
            "1681894414.669917\n",
            "278.12221789360046\n"
          ]
        }
      ]
    },
    {
      "cell_type": "code",
      "source": [
        "start_time_testing = time.time()\n",
        "test_loss, test_acc = model.evaluate(testX, testy)\n",
        "end_time_testing = time.time()"
      ],
      "metadata": {
        "id": "vEbbM1qDty70",
        "colab": {
          "base_uri": "https://localhost:8080/"
        },
        "outputId": "993b65d1-dd5c-4fb1-e215-74de15f8e18f"
      },
      "execution_count": 8,
      "outputs": [
        {
          "output_type": "stream",
          "name": "stdout",
          "text": [
            "93/93 [==============================] - 2s 19ms/step - loss: 0.2434 - accuracy: 0.9226\n"
          ]
        }
      ]
    },
    {
      "cell_type": "code",
      "source": [
        "print(end_time_testing - start_time_testing)"
      ],
      "metadata": {
        "id": "mRid-VkXt_NH",
        "colab": {
          "base_uri": "https://localhost:8080/"
        },
        "outputId": "f2258346-e3aa-4a99-cde8-c46ce9e20525"
      },
      "execution_count": 9,
      "outputs": [
        {
          "output_type": "stream",
          "name": "stdout",
          "text": [
            "2.6419360637664795\n"
          ]
        }
      ]
    }
  ]
}